{
 "cells": [
  {
   "cell_type": "code",
   "execution_count": 13,
   "id": "95b49443-a2d2-4519-8623-45b8d598eda3",
   "metadata": {},
   "outputs": [],
   "source": [
    "#11.1 Create a file called zoo.py. In it, define a function called hours() that prints the string 'Open 9-5 daily'\n",
    "def hours():\n",
    "    print(\"Open 9-5 daily\")\n"
   ]
  },
  {
   "cell_type": "code",
   "execution_count": null,
   "id": "97fd4f00-a89e-4cd9-8ea6-70e90be086a4",
   "metadata": {},
   "outputs": [],
   "source": [
    "# 11.2 In the interactive interpreter, import the zoo module as menagerie and call its hours() function.\n",
    "import zoo as menagerie\n",
    "menagerie.hours()\n",
    "\n",
    "# It will print Open 9-5 daily"
   ]
  },
  {
   "cell_type": "code",
   "execution_count": null,
   "id": "516e4f3b-e67d-491f-b2c4-db293f23622a",
   "metadata": {},
   "outputs": [],
   "source": [
    "# 11.3 Staying in the interpreter, import the hours() function from zoo directly and call it.\n",
    "from zoo import hours\n",
    "hours()\n"
   ]
  },
  {
   "cell_type": "code",
   "execution_count": null,
   "id": "9e6dec81-2cca-480c-8c5c-874c49d1b0e4",
   "metadata": {},
   "outputs": [],
   "source": [
    "# 11.4 Import the hours() function as info and call it.\n",
    "from zoo import hours as info\n",
    "info()"
   ]
  },
  {
   "cell_type": "code",
   "execution_count": 11,
   "id": "c3f063bd-b32e-4b23-96e1-e7584fbe2bde",
   "metadata": {},
   "outputs": [
    {
     "name": "stdout",
     "output_type": "stream",
     "text": [
      "{'a': 1, 'b': 2, 'c': 3}\n"
     ]
    }
   ],
   "source": [
    "# 11.5 Make a dictionary called plain with the key-value pairs 'a': 1, 'b': 2, and 'c': 3, and then print it.\n",
    "plain = {'a': 1, 'b': 2, 'c': 3}\n",
    "print(plain)\n"
   ]
  },
  {
   "cell_type": "code",
   "execution_count": 15,
   "id": "9e4bd977-8e94-4a54-80e2-5badce2919c8",
   "metadata": {},
   "outputs": [
    {
     "name": "stdout",
     "output_type": "stream",
     "text": [
      "OrderedDict([('a', 1), ('b', 2), ('c', 3)])\n"
     ]
    }
   ],
   "source": [
    "# 11.6 Make an OrderedDict called fancy from the same pairs listed in the previous question\n",
    "# and print it. Did it print in the same order as plain?\n",
    "from collections import OrderedDict\n",
    "fancy = OrderedDict([('a', 1), ('b', 2), ('c', 3)])\n",
    "print(fancy)\n",
    "\n",
    "\n"
   ]
  },
  {
   "cell_type": "code",
   "execution_count": 17,
   "id": "bb5b768d-eee3-48e3-84e6-2212ba322629",
   "metadata": {},
   "outputs": [
    {
     "name": "stdout",
     "output_type": "stream",
     "text": [
      "['something for a']\n"
     ]
    }
   ],
   "source": [
    "# 11.7 Make a defaultdict called dict_of_lists and pass it the argument list. \n",
    "# Make the list dict_of_lists['a'] and append the value 'something for a' to it in one assignment. \n",
    "# Print dict_of_lists['a'].\n",
    "from collections import defaultdict\n",
    "dict_of_lists = defaultdict(list)\n",
    "dict_of_lists['a'].append('something for a')\n",
    "print(dict_of_lists['a'])\n",
    "\n"
   ]
  },
  {
   "cell_type": "code",
   "execution_count": null,
   "id": "8da179f3-fed9-42a8-8642-104a10fc7376",
   "metadata": {},
   "outputs": [],
   "source": [
    "# Ernesto Hernandez\n",
    "\n",
    "# 16.1\n",
    "\n",
    "csv_content = \"\"\"author,book\n",
    "J R R Tolkien,The Hobbit\n",
    "Lynne Truss,\"Eats, Shoots & Leaves\"\n",
    "\"\"\"\n",
    "\n",
    "# Write the content to a file named books.csv\n",
    "with open(\"books.csv\", \"w\") as file:\n",
    "    file.write(csv_content)\n",
    "\n",
    "print(\"books.csv has been created successfully.\")\n",
    "\n",
    "# 16.2\n",
    "\n",
    "import csv\n",
    "\n",
    "# Open the books.csv file and read it using DictReader\n",
    "with open(\"books.csv\", newline='') as csvfile:\n",
    "    books = csv.DictReader(csvfile)\n",
    "    \n",
    "    # Print each row of the CSV file\n",
    "    for book in books:\n",
    "        print(book)\n",
    "\n",
    "# 16.3 Create a CVS file called books2.csv \n",
    "\n",
    "csv_content2 = \"\"\"title,author,year\n",
    "The Weirdstone of Brisingamen,Alan Garner,1960\n",
    "Perdido Street Station,China Miéville,2000\n",
    "Thud!,Terry Pratchett,2005\n",
    "The Spellman Files,Lisa Lutz,2007\n",
    "Small Gods,Terry Pratchett,1992\"\"\"\n",
    "\n",
    "# Write the content to a file named books.csv\n",
    "with open(\"books2.csv\", \"w\", newline=\"\") as file:\n",
    "    file.write(csv_content2)\n",
    "print(\"books2.csv has been created successfully.\")\n",
    "\n",
    "# 16.4 Use the sqlite3 module to create a SQLite database called books.db and \n",
    "# a table called books with these fields: title (text), author (text), and year (integer).\n",
    "\n",
    "import sqlite3\n",
    "\n",
    "# Connect to SQLite database (creates it if it doesn't exist)\n",
    "connection = sqlite3.connect(\"books.db\")\n",
    "\n",
    "# Create a cursor object to execute SQL commands\n",
    "cursor = connection.cursor()\n",
    "\n",
    "# SQL command to create the 'books' table\n",
    "cursor.execute(\"\"\"\n",
    "CREATE TABLE IF NOT EXISTS books (\n",
    "    title TEXT,\n",
    "    author TEXT,\n",
    "    year INTEGER\n",
    ")\n",
    "\"\"\")\n",
    "\n",
    "# Commit the changes and close the connection\n",
    "connection.commit()\n",
    "connection.close()\n",
    "\n",
    "print(\"Database and table created successfully.\")\n",
    "\n",
    "# 16.5\n",
    "\n",
    "# Connect to the SQLite database\n",
    "connection = sqlite3.connect(\"books.db\")\n",
    "cursor = connection.cursor()\n",
    "\n",
    "# Clear the books table to avoid duplicate entries\n",
    "cursor.execute(\"DELETE FROM books\")\n",
    "\n",
    "# Open and read the CSV file\n",
    "with open(\"books2.csv\", \"r\") as csvfile:\n",
    "    reader = csv.DictReader(csvfile)  # Use DictReader to read rows as dictionaries\n",
    "\n",
    "    # Insert each row into the 'books' table\n",
    "    for row in reader:\n",
    "        cursor.execute(\"\"\"\n",
    "        INSERT INTO books (title, author, year) \n",
    "        VALUES (?, ?, ?)\n",
    "        \"\"\", (row['title'], row['author'], int(row['year'])))\n",
    "\n",
    "# Commit the changes and close the connection\n",
    "connection.commit()\n",
    "connection.close()\n",
    "\n",
    "print(\"Data from books2.csv has been inserted into the books table.\")\n",
    "\n",
    "# 16.6 Select and print the title column from the book table in alphabetical order.\n",
    "\n",
    "# Connect to the SQLite database\n",
    "connection = sqlite3.connect(\"books.db\")\n",
    "cursor = connection.cursor()\n",
    "\n",
    "# Query to select and order the titles alphabetically\n",
    "cursor.execute(\"SELECT title FROM books ORDER BY title ASC\")\n",
    "\n",
    "# Fetch all results and print each title\n",
    "titles = cursor.fetchall()\n",
    "for title in titles:\n",
    "    print(title[0])  # title[0] accesses the string inside the tuple\n",
    "\n",
    "# Close the connection\n",
    "connection.close()\n",
    "\n",
    "# 16.7 Select and print all columns from the book table in order of publication.\n",
    "\n",
    "# Connect to the SQLite database\n",
    "connection = sqlite3.connect(\"books.db\")\n",
    "cursor = connection.cursor()\n",
    "\n",
    "# Query to select all columns and order by the publication year\n",
    "cursor.execute(\"SELECT title, author, year FROM books ORDER BY year ASC\")\n",
    "\n",
    "# Fetch all results and print each row\n",
    "books = cursor.fetchall()\n",
    "for book in books:\n",
    "    print(f\"Title: {book[0]}, Author: {book[1]}, Year: {book[2]}\")\n",
    "\n",
    "\n",
    "# 16.8 Use the sqlalchemy module to connect to the sqlite3 database books.db that you just made in exercise 16.4. \n",
    "# As in 16.6, select and print the title column from the book table in alphabetical order.\n",
    "\n",
    "from sqlalchemy import create_engine, Table, MetaData\n",
    "\n",
    "# Create an engine to connect to the SQLite database\n",
    "engine = create_engine('sqlite:///books.db')\n",
    "\n",
    "# Create a MetaData object to hold the table definition\n",
    "metadata = MetaData()\n",
    "\n",
    "# Reflect the existing 'books' table from the database\n",
    "books_table = Table('books', metadata, autoload_with=engine)\n",
    "\n",
    "# Connect to the database\n",
    "with engine.connect() as connection:\n",
    "    # Select and order the titles alphabetically\n",
    "    result = connection.execute(books_table.select().order_by(books_table.c.title))\n",
    "\n",
    "    # Print each title by accessing the column directly by name\n",
    "    for row in result:\n",
    "        print(row[0])\n"
   ]
  }
 ],
 "metadata": {
  "kernelspec": {
   "display_name": "anaconda-ai-2024.04-py310",
   "language": "python",
   "name": "conda-env-anaconda-ai-2024.04-py310-py"
  },
  "language_info": {
   "codemirror_mode": {
    "name": "ipython",
    "version": 3
   },
   "file_extension": ".py",
   "mimetype": "text/x-python",
   "name": "python",
   "nbconvert_exporter": "python",
   "pygments_lexer": "ipython3",
   "version": "3.10.13"
  }
 },
 "nbformat": 4,
 "nbformat_minor": 5
}
